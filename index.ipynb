{
 "cells": [
  {
   "cell_type": "markdown",
   "metadata": {},
   "source": [
    "# Combinations\n",
    "\n",
    "## Introduction\n",
    "\n",
    "In the previous section, you learned about how to apply permutations. Permutations come in handy when we want to know how many ways we can order sets. Now, what if order is not important? That's where *combinations* come in.\n",
    "\n",
    "## Objectives\n",
    "\n",
    "You will be able to: \n",
    "\n",
    "* Describe how combinations are used when order is not important\n",
    "\n",
    "\n",
    "## Why combinations?\n",
    "\n",
    "\n",
    "In some settings, the order of the selection is not important.\n",
    "\n",
    "Let's go back to our example of a coverband creating a setlist. Imagine that the band is playing 3 songs out of their 8 song repertoire. How many ways can they select songs, assuming that the **order of the chosen songs is not important**? Here, we just want to know *which* three songs they play, and not which song goes first, second and last.\n",
    "\n",
    "You can use a backward rationale here. You know that when order *did* matter, our answer was $8 * 7 * 6$. When having three elements, there are 6 possible orders (ABC, ACB, CAB, CBA, BAC, BCA), so the answer can be obtained by dividing our previous answer by 6. \n",
    "\n",
    "This type of problem can be solved by using *combinations*.\n",
    "In general, combinations answer the question: \"How many ways can we create a subset $k$ out of $n$ objects?\". The subset is not ordered. \n",
    "\n",
    "$$\\displaystyle\\binom{n}{k} = \\dfrac{P_{k}^{n}}{k!}=\\dfrac{ \\dfrac{n!}{(n-k)!}}{k!} = \\dfrac{n!}{(n-k)!k!}$$\n",
    "\n",
    "Applied to our example, this means that there are \n",
    "\n",
    "$$  \\dfrac{8!}{(8-3)!3!} = \\dfrac{8!}{(8-3)!3!} =\\dfrac{ 8*7*6}{6} = 56 $$.\n",
    "\n",
    "so there are 56 ways to choose 3 songs out of an 8 song repertoire.\n",
    "\n",
    "##  Summary\n",
    "\n",
    "In this section, you learned what combinations are and how to use them. Let's put this knowledge into practice!"
   ]
  }
 ],
 "metadata": {
  "kernelspec": {
   "display_name": "Python 3",
   "language": "python",
   "name": "python3"
  },
  "language_info": {
   "codemirror_mode": {
    "name": "ipython",
    "version": 3
   },
   "file_extension": ".py",
   "mimetype": "text/x-python",
   "name": "python",
   "nbconvert_exporter": "python",
   "pygments_lexer": "ipython3",
   "version": "3.6.9"
  },
  "toc": {
   "base_numbering": 1,
   "nav_menu": {},
   "number_sections": true,
   "sideBar": true,
   "skip_h1_title": false,
   "title_cell": "Table of Contents",
   "title_sidebar": "Contents",
   "toc_cell": false,
   "toc_position": {},
   "toc_section_display": true,
   "toc_window_display": false
  }
 },
 "nbformat": 4,
 "nbformat_minor": 2
}
